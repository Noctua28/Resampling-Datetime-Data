{
 "cells": [
  {
   "cell_type": "code",
   "execution_count": 1,
   "id": "f4ce698c",
   "metadata": {},
   "outputs": [
    {
     "data": {
      "text/html": [
       "<div>\n",
       "<style scoped>\n",
       "    .dataframe tbody tr th:only-of-type {\n",
       "        vertical-align: middle;\n",
       "    }\n",
       "\n",
       "    .dataframe tbody tr th {\n",
       "        vertical-align: top;\n",
       "    }\n",
       "\n",
       "    .dataframe thead th {\n",
       "        text-align: right;\n",
       "    }\n",
       "</style>\n",
       "<table border=\"1\" class=\"dataframe\">\n",
       "  <thead>\n",
       "    <tr style=\"text-align: right;\">\n",
       "      <th></th>\n",
       "      <th>date</th>\n",
       "      <th>cloud_cover</th>\n",
       "      <th>sunshine</th>\n",
       "      <th>global_radiation</th>\n",
       "      <th>max_temp</th>\n",
       "      <th>mean_temp</th>\n",
       "      <th>min_temp</th>\n",
       "      <th>precipitation</th>\n",
       "      <th>pressure</th>\n",
       "      <th>snow_depth</th>\n",
       "    </tr>\n",
       "  </thead>\n",
       "  <tbody>\n",
       "    <tr>\n",
       "      <th>0</th>\n",
       "      <td>19790101</td>\n",
       "      <td>2.0</td>\n",
       "      <td>7.0</td>\n",
       "      <td>52.0</td>\n",
       "      <td>2.3</td>\n",
       "      <td>-4.1</td>\n",
       "      <td>-7.5</td>\n",
       "      <td>0.4</td>\n",
       "      <td>101900.0</td>\n",
       "      <td>9.0</td>\n",
       "    </tr>\n",
       "    <tr>\n",
       "      <th>1</th>\n",
       "      <td>19790102</td>\n",
       "      <td>6.0</td>\n",
       "      <td>1.7</td>\n",
       "      <td>27.0</td>\n",
       "      <td>1.6</td>\n",
       "      <td>-2.6</td>\n",
       "      <td>-7.5</td>\n",
       "      <td>0.0</td>\n",
       "      <td>102530.0</td>\n",
       "      <td>8.0</td>\n",
       "    </tr>\n",
       "    <tr>\n",
       "      <th>2</th>\n",
       "      <td>19790103</td>\n",
       "      <td>5.0</td>\n",
       "      <td>0.0</td>\n",
       "      <td>13.0</td>\n",
       "      <td>1.3</td>\n",
       "      <td>-2.8</td>\n",
       "      <td>-7.2</td>\n",
       "      <td>0.0</td>\n",
       "      <td>102050.0</td>\n",
       "      <td>4.0</td>\n",
       "    </tr>\n",
       "    <tr>\n",
       "      <th>3</th>\n",
       "      <td>19790104</td>\n",
       "      <td>8.0</td>\n",
       "      <td>0.0</td>\n",
       "      <td>13.0</td>\n",
       "      <td>-0.3</td>\n",
       "      <td>-2.6</td>\n",
       "      <td>-6.5</td>\n",
       "      <td>0.0</td>\n",
       "      <td>100840.0</td>\n",
       "      <td>2.0</td>\n",
       "    </tr>\n",
       "    <tr>\n",
       "      <th>4</th>\n",
       "      <td>19790105</td>\n",
       "      <td>6.0</td>\n",
       "      <td>2.0</td>\n",
       "      <td>29.0</td>\n",
       "      <td>5.6</td>\n",
       "      <td>-0.8</td>\n",
       "      <td>-1.4</td>\n",
       "      <td>0.0</td>\n",
       "      <td>102250.0</td>\n",
       "      <td>1.0</td>\n",
       "    </tr>\n",
       "  </tbody>\n",
       "</table>\n",
       "</div>"
      ],
      "text/plain": [
       "       date  cloud_cover  sunshine  global_radiation  max_temp  mean_temp  \\\n",
       "0  19790101          2.0       7.0              52.0       2.3       -4.1   \n",
       "1  19790102          6.0       1.7              27.0       1.6       -2.6   \n",
       "2  19790103          5.0       0.0              13.0       1.3       -2.8   \n",
       "3  19790104          8.0       0.0              13.0      -0.3       -2.6   \n",
       "4  19790105          6.0       2.0              29.0       5.6       -0.8   \n",
       "\n",
       "   min_temp  precipitation  pressure  snow_depth  \n",
       "0      -7.5            0.4  101900.0         9.0  \n",
       "1      -7.5            0.0  102530.0         8.0  \n",
       "2      -7.2            0.0  102050.0         4.0  \n",
       "3      -6.5            0.0  100840.0         2.0  \n",
       "4      -1.4            0.0  102250.0         1.0  "
      ]
     },
     "execution_count": 1,
     "metadata": {},
     "output_type": "execute_result"
    }
   ],
   "source": [
    "# Importing Libraries\n",
    "import pandas as pd\n",
    "import numpy as np\n",
    "\n",
    "# Load the data\n",
    "df = pd.read_csv(\"C:/Users/aharo/OneDrive/Documents/GitHub/Resampling-Datetime-Data/Data/london_weather_MODIFIED - london_weather_MODIFIED.csv\")\n",
    "\n",
    "# Check initial rows\n",
    "df.head()"
   ]
  },
  {
   "cell_type": "code",
   "execution_count": 2,
   "id": "0fe868ed",
   "metadata": {},
   "outputs": [
    {
     "data": {
      "text/html": [
       "<div>\n",
       "<style scoped>\n",
       "    .dataframe tbody tr th:only-of-type {\n",
       "        vertical-align: middle;\n",
       "    }\n",
       "\n",
       "    .dataframe tbody tr th {\n",
       "        vertical-align: top;\n",
       "    }\n",
       "\n",
       "    .dataframe thead th {\n",
       "        text-align: right;\n",
       "    }\n",
       "</style>\n",
       "<table border=\"1\" class=\"dataframe\">\n",
       "  <thead>\n",
       "    <tr style=\"text-align: right;\">\n",
       "      <th></th>\n",
       "      <th>cloud_cover</th>\n",
       "      <th>sunshine</th>\n",
       "      <th>global_radiation</th>\n",
       "      <th>max_temp</th>\n",
       "      <th>mean_temp</th>\n",
       "      <th>min_temp</th>\n",
       "      <th>precipitation</th>\n",
       "      <th>pressure</th>\n",
       "      <th>snow_depth</th>\n",
       "    </tr>\n",
       "    <tr>\n",
       "      <th>date</th>\n",
       "      <th></th>\n",
       "      <th></th>\n",
       "      <th></th>\n",
       "      <th></th>\n",
       "      <th></th>\n",
       "      <th></th>\n",
       "      <th></th>\n",
       "      <th></th>\n",
       "      <th></th>\n",
       "    </tr>\n",
       "  </thead>\n",
       "  <tbody>\n",
       "    <tr>\n",
       "      <th>1979-01-01</th>\n",
       "      <td>2.0</td>\n",
       "      <td>7.0</td>\n",
       "      <td>52.0</td>\n",
       "      <td>2.3</td>\n",
       "      <td>-4.1</td>\n",
       "      <td>-7.5</td>\n",
       "      <td>0.4</td>\n",
       "      <td>101900.0</td>\n",
       "      <td>9.0</td>\n",
       "    </tr>\n",
       "    <tr>\n",
       "      <th>1979-01-02</th>\n",
       "      <td>6.0</td>\n",
       "      <td>1.7</td>\n",
       "      <td>27.0</td>\n",
       "      <td>1.6</td>\n",
       "      <td>-2.6</td>\n",
       "      <td>-7.5</td>\n",
       "      <td>0.0</td>\n",
       "      <td>102530.0</td>\n",
       "      <td>8.0</td>\n",
       "    </tr>\n",
       "    <tr>\n",
       "      <th>1979-01-03</th>\n",
       "      <td>5.0</td>\n",
       "      <td>0.0</td>\n",
       "      <td>13.0</td>\n",
       "      <td>1.3</td>\n",
       "      <td>-2.8</td>\n",
       "      <td>-7.2</td>\n",
       "      <td>0.0</td>\n",
       "      <td>102050.0</td>\n",
       "      <td>4.0</td>\n",
       "    </tr>\n",
       "    <tr>\n",
       "      <th>1979-01-04</th>\n",
       "      <td>8.0</td>\n",
       "      <td>0.0</td>\n",
       "      <td>13.0</td>\n",
       "      <td>-0.3</td>\n",
       "      <td>-2.6</td>\n",
       "      <td>-6.5</td>\n",
       "      <td>0.0</td>\n",
       "      <td>100840.0</td>\n",
       "      <td>2.0</td>\n",
       "    </tr>\n",
       "    <tr>\n",
       "      <th>1979-01-05</th>\n",
       "      <td>6.0</td>\n",
       "      <td>2.0</td>\n",
       "      <td>29.0</td>\n",
       "      <td>5.6</td>\n",
       "      <td>-0.8</td>\n",
       "      <td>-1.4</td>\n",
       "      <td>0.0</td>\n",
       "      <td>102250.0</td>\n",
       "      <td>1.0</td>\n",
       "    </tr>\n",
       "  </tbody>\n",
       "</table>\n",
       "</div>"
      ],
      "text/plain": [
       "            cloud_cover  sunshine  global_radiation  max_temp  mean_temp  \\\n",
       "date                                                                       \n",
       "1979-01-01          2.0       7.0              52.0       2.3       -4.1   \n",
       "1979-01-02          6.0       1.7              27.0       1.6       -2.6   \n",
       "1979-01-03          5.0       0.0              13.0       1.3       -2.8   \n",
       "1979-01-04          8.0       0.0              13.0      -0.3       -2.6   \n",
       "1979-01-05          6.0       2.0              29.0       5.6       -0.8   \n",
       "\n",
       "            min_temp  precipitation  pressure  snow_depth  \n",
       "date                                                       \n",
       "1979-01-01      -7.5            0.4  101900.0         9.0  \n",
       "1979-01-02      -7.5            0.0  102530.0         8.0  \n",
       "1979-01-03      -7.2            0.0  102050.0         4.0  \n",
       "1979-01-04      -6.5            0.0  100840.0         2.0  \n",
       "1979-01-05      -1.4            0.0  102250.0         1.0  "
      ]
     },
     "execution_count": 2,
     "metadata": {},
     "output_type": "execute_result"
    }
   ],
   "source": [
    "# Convert the 'date' column to datetime format\n",
    "df['date'] = pd.to_datetime(df['date'], format='%Y%m%d')\n",
    "\n",
    "# Set 'date' as the index of the DataFrame\n",
    "df.set_index('date', inplace=True)\n",
    "\n",
    "# Check the updated DataFrame\n",
    "df.head()"
   ]
  },
  {
   "cell_type": "code",
   "execution_count": 3,
   "id": "dd0834ab",
   "metadata": {},
   "outputs": [
    {
     "data": {
      "text/html": [
       "<div>\n",
       "<style scoped>\n",
       "    .dataframe tbody tr th:only-of-type {\n",
       "        vertical-align: middle;\n",
       "    }\n",
       "\n",
       "    .dataframe tbody tr th {\n",
       "        vertical-align: top;\n",
       "    }\n",
       "\n",
       "    .dataframe thead th {\n",
       "        text-align: right;\n",
       "    }\n",
       "</style>\n",
       "<table border=\"1\" class=\"dataframe\">\n",
       "  <thead>\n",
       "    <tr style=\"text-align: right;\">\n",
       "      <th></th>\n",
       "      <th>precipitation</th>\n",
       "      <th>mean_temp</th>\n",
       "      <th>min_temp</th>\n",
       "      <th>max_temp</th>\n",
       "      <th>snow_depth</th>\n",
       "    </tr>\n",
       "    <tr>\n",
       "      <th>date</th>\n",
       "      <th></th>\n",
       "      <th></th>\n",
       "      <th></th>\n",
       "      <th></th>\n",
       "      <th></th>\n",
       "    </tr>\n",
       "  </thead>\n",
       "  <tbody>\n",
       "    <tr>\n",
       "      <th>2000-01-01</th>\n",
       "      <td>0.0</td>\n",
       "      <td>7.0</td>\n",
       "      <td>4.9</td>\n",
       "      <td>10.8</td>\n",
       "      <td>0.0</td>\n",
       "    </tr>\n",
       "    <tr>\n",
       "      <th>2000-01-02</th>\n",
       "      <td>0.2</td>\n",
       "      <td>7.9</td>\n",
       "      <td>5.0</td>\n",
       "      <td>11.5</td>\n",
       "      <td>0.0</td>\n",
       "    </tr>\n",
       "    <tr>\n",
       "      <th>2000-01-03</th>\n",
       "      <td>6.0</td>\n",
       "      <td>9.4</td>\n",
       "      <td>7.2</td>\n",
       "      <td>9.5</td>\n",
       "      <td>0.0</td>\n",
       "    </tr>\n",
       "    <tr>\n",
       "      <th>2000-01-04</th>\n",
       "      <td>0.2</td>\n",
       "      <td>7.0</td>\n",
       "      <td>4.4</td>\n",
       "      <td>11.0</td>\n",
       "      <td>0.0</td>\n",
       "    </tr>\n",
       "    <tr>\n",
       "      <th>2000-01-05</th>\n",
       "      <td>0.8</td>\n",
       "      <td>6.4</td>\n",
       "      <td>1.9</td>\n",
       "      <td>10.8</td>\n",
       "      <td>0.0</td>\n",
       "    </tr>\n",
       "  </tbody>\n",
       "</table>\n",
       "</div>"
      ],
      "text/plain": [
       "            precipitation  mean_temp  min_temp  max_temp  snow_depth\n",
       "date                                                                \n",
       "2000-01-01            0.0        7.0       4.9      10.8         0.0\n",
       "2000-01-02            0.2        7.9       5.0      11.5         0.0\n",
       "2000-01-03            6.0        9.4       7.2       9.5         0.0\n",
       "2000-01-04            0.2        7.0       4.4      11.0         0.0\n",
       "2000-01-05            0.8        6.4       1.9      10.8         0.0"
      ]
     },
     "execution_count": 3,
     "metadata": {},
     "output_type": "execute_result"
    }
   ],
   "source": [
    "# Filter the data from the year 2000 onwards\n",
    "df = df[df.index.year >= 2000]\n",
    "\n",
    "# Keep only the required columns\n",
    "df = df[['precipitation', 'mean_temp', 'min_temp', 'max_temp', 'snow_depth']]\n",
    "\n",
    "# Check the updated DataFrame\n",
    "df.head()"
   ]
  },
  {
   "cell_type": "code",
   "execution_count": 4,
   "id": "d24d3d45",
   "metadata": {},
   "outputs": [
    {
     "data": {
      "text/plain": [
       "precipitation     390\n",
       "mean_temp         419\n",
       "min_temp          386\n",
       "max_temp          390\n",
       "snow_depth       1752\n",
       "dtype: int64"
      ]
     },
     "execution_count": 4,
     "metadata": {},
     "output_type": "execute_result"
    }
   ],
   "source": [
    "# Check for missing values\n",
    "df.isnull().sum()"
   ]
  },
  {
   "cell_type": "markdown",
   "id": "b1f11a0b",
   "metadata": {},
   "source": [
    "There are missing values in all the features. The 'snow_depth' feature has the most missing values, which is not surprising as it does not snow frequently in London.\n",
    "\n",
    "Given the nature of our features, we can consider two imputation strategies:\n",
    "\n",
    "1. For 'precipitation' and 'snow_depth', we can safely assume that if the value is missing, it means there was no precipitation or snow on that day. We can fill the missing values with 0.\n",
    "\n",
    "2. For temperature-related features ('mean_temp', 'min_temp', 'max_temp'), it wouldn't be appropriate to fill missing values with 0, as that would significantly alter the data. Instead, we'll use forward fill method, which propagates the last valid observation forward."
   ]
  },
  {
   "cell_type": "code",
   "execution_count": 5,
   "id": "4133a348",
   "metadata": {},
   "outputs": [
    {
     "data": {
      "text/plain": [
       "precipitation    0\n",
       "mean_temp        0\n",
       "min_temp         0\n",
       "max_temp         0\n",
       "snow_depth       0\n",
       "dtype: int64"
      ]
     },
     "execution_count": 5,
     "metadata": {},
     "output_type": "execute_result"
    }
   ],
   "source": [
    "# Imputation\n",
    "df['precipitation'].fillna(0, inplace=True)\n",
    "df['snow_depth'].fillna(0, inplace=True)\n",
    "\n",
    "df['mean_temp'].fillna(method='ffill', inplace=True)\n",
    "df['min_temp'].fillna(method='ffill', inplace=True)\n",
    "df['max_temp'].fillna(method='ffill', inplace=True)\n",
    "\n",
    "# Check for missing values after imputation\n",
    "df.isnull().sum()"
   ]
  },
  {
   "cell_type": "markdown",
   "id": "81c2a5a7",
   "metadata": {},
   "source": [
    "# Q1: What month had the most precipitation between 2000 through 2010?\n",
    "\n",
    "To answer this question, we need to:\n",
    "\n",
    "1. Resample the data to a monthly frequency.\n",
    "2. Find the date and corresponding value for the max precipitation.\n",
    "3. Plot the feature and time period that corresponds to the question."
   ]
  },
  {
   "cell_type": "code",
   "execution_count": 6,
   "id": "32acfe8c",
   "metadata": {},
   "outputs": [
    {
     "data": {
      "text/plain": [
       "(Timestamp('2009-11-30 00:00:00'), 138.4)"
      ]
     },
     "execution_count": 6,
     "metadata": {},
     "output_type": "execute_result"
    }
   ],
   "source": [
    "# Let's start by resampling the data to a monthly frequency and finding the month with the maximum precipitation.\n",
    "\n",
    "# Filter data for 2000 through 2010\n",
    "df_2000_2010 = df[(df.index.year >= 2000) & (df.index.year <= 2010)]\n",
    "\n",
    "# Resample the data to monthly frequency\n",
    "df_monthly = df_2000_2010.resample('M').sum()\n",
    "\n",
    "# Find the date and corresponding value for the max precipitation\n",
    "max_precipitation_date = df_monthly['precipitation'].idxmax()\n",
    "max_precipitation_value = df_monthly['precipitation'].max()\n",
    "\n",
    "max_precipitation_date, max_precipitation_value"
   ]
  },
  {
   "cell_type": "markdown",
   "id": "a3786700",
   "metadata": {},
   "source": [
    "The month with the most precipitation between 2000 and 2010 was November 2009, which had a total of 138.4 mm of precipitation."
   ]
  },
  {
   "cell_type": "markdown",
   "id": "5e765263",
   "metadata": {},
   "source": [
    "Now, let's create a plot of precipitation for the period from 2000 through 2010. We'll add a vertical line at November 2009 to denote the month with the highest precipitation."
   ]
  },
  {
   "cell_type": "code",
   "execution_count": 7,
   "id": "4ca843d0",
   "metadata": {},
   "outputs": [
    {
     "data": {
      "image/png": "[encoded data removed]",
      "text/plain": [
       "<Figure size 1200x300 with 1 Axes>"
      ]
     },
     "metadata": {},
     "output_type": "display_data"
    }
   ],
   "source": [
    "import matplotlib.pyplot as plt\n",
    "import matplotlib.dates as mdates\n",
    "\n",
    "# Create figure and axes\n",
    "fig, ax = plt.subplots(figsize=(12, 3))\n",
    "\n",
    "# Plot the data\n",
    "df_monthly['precipitation'].plot(ax=ax, color='blue')\n",
    "\n",
    "# Add a vertical line for the date with max precipitation\n",
    "plt.axvline(max_precipitation_date, color='red', linestyle='--')\n",
    "plt.text(max_precipitation_date, max_precipitation_value, \n",
    "         f'Max Precipitation: {max_precipitation_date.strftime(\"%B %Y\")}\\n{max_precipitation_value} mm', \n",
    "         verticalalignment='bottom')\n",
    "\n",
    "# Set the title and labels\n",
    "plt.title('Precipitation for 2000-2010')\n",
    "plt.ylabel('mm')\n",
    "\n",
    "# Customize the major x-axis ticks\n",
    "ax.xaxis.set_major_locator(mdates.YearLocator())\n",
    "ax.xaxis.set_major_formatter(mdates.DateFormatter('%Y'))\n",
    "plt.xticks(rotation=90)\n",
    "\n",
    "# Customize the minor x-axis ticks\n",
    "ax.xaxis.set_minor_locator(mdates.MonthLocator(interval=3))\n",
    "ax.xaxis.set_minor_formatter(mdates.DateFormatter('%b'))\n",
    "ax.xaxis.set_tick_params(which='minor', size=0)\n",
    "\n",
    "# Apply the auto date formatter\n",
    "fig.autofmt_xdate()\n",
    "\n",
    "# Show the plot\n",
    "plt.show()"
   ]
  },
  {
   "cell_type": "markdown",
   "id": "336c0e90",
   "metadata": {},
   "source": [
    "The plot above shows the total precipitation for each month between 2000 and 2010. The red dashed line indicates the month with the highest precipitation: November 2009, with 138.4 mm of rain."
   ]
  },
  {
   "cell_type": "markdown",
   "id": "de9213b6",
   "metadata": {},
   "source": [
    "# Q2: Which year between 2000-2020 had the coolest average temperature?\n",
    "\n",
    "To answer this question, we need to:\n",
    "\n",
    "1. Resample the data to a yearly frequency.\n",
    "2. Find the year and corresponding value for the lowest mean temperature.\n",
    "3. Plot the feature and time period that corresponds to the question.\n",
    "\n",
    "\n",
    "Let's start by resampling the data to a yearly frequency and finding the year with the lowest average temperature."
   ]
  },
  {
   "cell_type": "code",
   "execution_count": 8,
   "id": "61443ca8",
   "metadata": {},
   "outputs": [
    {
     "data": {
      "text/plain": [
       "(2010, 10.66054794520548)"
      ]
     },
     "execution_count": 8,
     "metadata": {},
     "output_type": "execute_result"
    }
   ],
   "source": [
    "# Filter data for 2000 through 2020\n",
    "df_2000_2020 = df[(df.index.year >= 2000) & (df.index.year <= 2020)]\n",
    "\n",
    "# Resample the data to yearly frequency\n",
    "df_yearly = df_2000_2020.resample('Y').mean()\n",
    "\n",
    "# Find the date and corresponding value for the lowest mean temperature\n",
    "lowest_temp_date = df_yearly['mean_temp'].idxmin().year\n",
    "lowest_temp_value = df_yearly['mean_temp'].min()\n",
    "\n",
    "lowest_temp_date, lowest_temp_value\n",
    "\n",
    "# The year with the lowest average temperature between 2000 and 2020 was 2010, which had an average temperature of approximately 10.66°C."
   ]
  },
  {
   "cell_type": "markdown",
   "id": "513ad794",
   "metadata": {},
   "source": [
    "Now, let's create a plot of the average temperature for the period from 2000 through 2020. We'll add a vertical line at 2010 to denote the year with the lowest average temperature."
   ]
  },
  {
   "cell_type": "code",
   "execution_count": 9,
   "id": "15ff1392",
   "metadata": {},
   "outputs": [
    {
     "data": {
      "image/png": "[encoded data removed]",
      "text/plain": [
       "<Figure size 1200x300 with 1 Axes>"
      ]
     },
     "metadata": {},
     "output_type": "display_data"
    }
   ],
   "source": [
    "# Create figure and axes\n",
    "fig, ax = plt.subplots(figsize=(12, 3))\n",
    "\n",
    "# Plot the data\n",
    "df_yearly['mean_temp'].plot(ax=ax, color='blue')\n",
    "\n",
    "# Add a vertical line for the date with the lowest mean temperature\n",
    "plt.axvline(pd.to_datetime(str(lowest_temp_date)), color='red', linestyle='--')\n",
    "plt.text(pd.to_datetime(str(lowest_temp_date)), lowest_temp_value, \n",
    "         f'Lowest Mean Temp: {lowest_temp_date}\\n{lowest_temp_value:.2f} °C', \n",
    "         verticalalignment='top')\n",
    "\n",
    "# Set the title and labels\n",
    "plt.title('Average Temperature for 2000-2020')\n",
    "plt.ylabel('°C')\n",
    "\n",
    "# Customize the major x-axis ticks\n",
    "ax.xaxis.set_major_locator(mdates.YearLocator(5))\n",
    "ax.xaxis.set_major_formatter(mdates.DateFormatter('%Y'))\n",
    "plt.xticks(rotation=90)\n",
    "\n",
    "# Customize the minor x-axis ticks\n",
    "ax.xaxis.set_minor_locator(mdates.YearLocator(1))\n",
    "ax.xaxis.set_tick_params(which='minor', size=0)\n",
    "\n",
    "# Apply the auto date formatter\n",
    "fig.autofmt_xdate()\n",
    "\n",
    "# Show the plot\n",
    "plt.show()"
   ]
  },
  {
   "cell_type": "markdown",
   "id": "ddce9d6b",
   "metadata": {},
   "source": [
    "The plot above shows the average temperature for each year between 2000 and 2020. The red dashed line indicates the year with the lowest average temperature: 2010, with an average temperature of approximately 10.66°C."
   ]
  }
 ],
 "metadata": {
  "kernelspec": {
   "display_name": "Python 3 (ipykernel)",
   "language": "python",
   "name": "python3"
  },
  "language_info": {
   "codemirror_mode": {
    "name": "ipython",
    "version": 3
   },
   "file_extension": ".py",
   "mimetype": "text/x-python",
   "name": "python",
   "nbconvert_exporter": "python",
   "pygments_lexer": "ipython3",
   "version": "3.9.15"
  },
  "toc": {
   "base_numbering": 1,
   "nav_menu": {},
   "number_sections": true,
   "sideBar": true,
   "skip_h1_title": false,
   "title_cell": "Table of Contents",
   "title_sidebar": "Contents",
   "toc_cell": false,
   "toc_position": {},
   "toc_section_display": true,
   "toc_window_display": false
  }
 },
 "nbformat": 4,
 "nbformat_minor": 5
}
